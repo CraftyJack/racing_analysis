{
 "cells": [
  {
   "cell_type": "code",
   "execution_count": 14,
   "metadata": {},
   "outputs": [],
   "source": [
    "import pandas as pd\n",
    "import numpy as np\n",
    "import re"
   ]
  },
  {
   "cell_type": "code",
   "execution_count": 30,
   "metadata": {},
   "outputs": [],
   "source": [
    "class GroupMap:\n",
    "    def __init__(self):\n",
    "        self.data = {}\n",
    "        \n",
    "    # Based on discussion here: https://stackoverflow.com/questions/55892600/python-triplet-dictionary\n",
    "    # Takes in a dictionary and creates an identical dictionary under each value in the original.\n",
    "    # This provides a means to look up keys from values.\n",
    "    # For example, {'a':'apple', 'b':'butter', 'c':'cocoa'} is stored as\n",
    "    # {'apple':{'a':'apple', 'b':'butter', 'c':'cocoa'},\n",
    "    # 'butter':{'a':'apple', 'b':'butter', 'c':'cocoa'},\n",
    "    # 'cocoa':{'a':'apple', 'b':'butter', 'c':'cocoa'}}\n",
    "    # so, self['butter'] returns {'a':'apple', 'b':'butter', 'c':'cocoa'}, \n",
    "    # and self['butter']['a'] returns 'apple'.\n",
    "    # Be warned, newer entries overwrite older ones.\n",
    "\n",
    "    def add(self, group):\n",
    "        for thing in group.keys():\n",
    "            self.data[group[thing]] = group\n",
    "\n",
    "    def __getitem__(self, item):\n",
    "        return self.data[item]"
   ]
  },
  {
   "cell_type": "code",
   "execution_count": 31,
   "metadata": {},
   "outputs": [],
   "source": [
    "# Read in the conversion table from Wikipedia.\n",
    "temp_df = pd.read_html('https://en.wikipedia.org/wiki/Comparison_of_alphabetic_country_codes')[0]    \n",
    "\n",
    "# Tidy up the columm headings.\n",
    "temp_df = temp_df[['Country', 'IOC', 'ISO']]\n",
    "temp_df = temp_df.rename(columns={'IOC': 'IOC_code', 'ISO': 'ISO_code'})\n",
    "\n",
    "# Drop the footnote citations from the table text.\n",
    "citation_pattern = re.compile('\\[[1-9][0-9]?\\]')\n",
    "\n",
    "temp_df['Country'] = temp_df['Country'].str.replace(citation_pattern,'')\n",
    "\n",
    "# Drop the parenthetical notes from the table text. (Note the leading space.)\n",
    "parenthetical_pattern = re.compile(' \\(.+\\)')\n",
    "\n",
    "temp_df['Country'] = temp_df['Country'].str.replace(parenthetical_pattern,'')\n",
    "\n",
    "# Reorder the comma separated entries.\n",
    "temp_df['Country'] = temp_df['Country'].str.split(', ').apply(lambda x: ' '.join(x[::-1]))\n",
    "\n",
    "country_code_trictionary = GroupMap()\n",
    "\n",
    "thang = temp_df.to_dict('records')\n",
    "\n",
    "for record in thang:\n",
    "    country_code_trictionary.add(record)"
   ]
  },
  {
   "cell_type": "code",
   "execution_count": 32,
   "metadata": {},
   "outputs": [
    {
     "name": "stdout",
     "output_type": "stream",
     "text": [
      "oops\n"
     ]
    }
   ],
   "source": [
    "try:\n",
    "    country_code_trictionary['ROM']['ISO_code']\n",
    "except:\n",
    "    print('oops')"
   ]
  },
  {
   "cell_type": "code",
   "execution_count": null,
   "metadata": {},
   "outputs": [],
   "source": []
  }
 ],
 "metadata": {
  "kernelspec": {
   "display_name": "Python 3",
   "language": "python",
   "name": "python3"
  },
  "language_info": {
   "codemirror_mode": {
    "name": "ipython",
    "version": 3
   },
   "file_extension": ".py",
   "mimetype": "text/x-python",
   "name": "python",
   "nbconvert_exporter": "python",
   "pygments_lexer": "ipython3",
   "version": "3.7.7"
  }
 },
 "nbformat": 4,
 "nbformat_minor": 4
}
