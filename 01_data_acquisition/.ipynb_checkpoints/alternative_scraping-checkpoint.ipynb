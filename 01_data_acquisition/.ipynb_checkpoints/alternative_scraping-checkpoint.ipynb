{
 "cells": [
  {
   "cell_type": "code",
   "execution_count": 3,
   "metadata": {},
   "outputs": [],
   "source": [
    "import json\n",
    "\n",
    "import requests"
   ]
  },
  {
   "cell_type": "code",
   "execution_count": 7,
   "metadata": {},
   "outputs": [],
   "source": [
    "url = 'http://results.nyrr.org//api/runners/eventRunner'\n",
    "\n",
    "payload = {\"eventCode\": \"M2019\", \"bib\": \"15017\"}\n",
    "headers = {\n",
    "    \"accept\": \"application/json, text/plain, */*\",\n",
    "    \"accept-language\": \"en-US,en;q=0.9\",\n",
    "    \"content-type\": \"application/json;charset=UTF-8\",\n",
    "    \"sec-ch-ua\": \"\\\"Chromium\\\";v=\\\"88\\\", \\\"Google Chrome\\\";v=\\\"88\\\", \\\";Not A Brand\\\";v=\\\"99\\\"\",\n",
    "    \"sec-ch-ua-mobile\": \"?0\",\n",
    "    \"sec-fetch-dest\": \"empty\",\n",
    "    \"sec-fetch-mode\": \"cors\",\n",
    "    \"sec-fetch-site\": \"same-origin\",\n",
    "    \"token\": \"6122c32703f442f0\"\n",
    "  }\n",
    "response = requests.get(url, headers = headers, data = payload)"
   ]
  },
  {
   "cell_type": "code",
   "execution_count": 12,
   "metadata": {},
   "outputs": [
    {
     "name": "stdout",
     "output_type": "stream",
     "text": [
      "{\"status\":0,\"message\":null,\"response\":{\"runnerId\":26819621,\"bib\":\"15017\",\"teamName\":null,\"iaaf\":\"SRB\",\"placeOverall\":9411,\"gunPlaceOverall\":7800,\"netPlaceOverall\":9411,\"timeOverall\":\"3:42:52\",\"gunTime\":\"3:44:43\",\"netTime\":\"3:42:52\",\"scoreByNetTime\":true,\"pace\":\"08:31\",\"placeGender\":7377,\"placeAgeGroup\":1273,\"ageGroupFromTo\":\"40-44\",\"timeAgeGrade\":\"3:34:28\",\"placeAgeGrade\":9102,\"percentAgeGrade\":57.33,\"placeCountry\":5,\"speed\":7.1,\"photoUrl\":\"http://www.marathonfoto.com/In?RaceOID=27042019F2&LastName=Mancu&BibNumber=15017\",\"basnoPhotoUrl\":\"\",\"splitResults\":[{\"splitCode\":\"3M\",\"splitName\":null,\"time\":\"0:23:36\",\"pace\":\"07:52\",\"speed\":7.6,\"distance\":3.0},{\"splitCode\":\"5K\",\"splitName\":null,\"time\":\"0:24:23\",\"pace\":\"07:51\",\"speed\":7.6,\"distance\":3.11},{\"splitCode\":\"4M\",\"splitName\":null,\"time\":\"0:31:27\",\"pace\":\"07:52\",\"speed\":7.6,\"distance\":4.0},{\"splitCode\":\"5M\",\"splitName\":null,\"time\":\"0:39:13\",\"pace\":\"07:51\",\"speed\":7.7,\"distance\":5.0},{\"splitCode\":\"6M\",\"splitName\":null,\"time\":\"0:47:04\",\"pace\":\"07:51\",\"speed\":7.7,\"distance\":6.0},{\"splitCode\":\"10K\",\"splitName\":null,\"time\":\"0:48:45\",\"pace\":\"07:51\",\"speed\":7.6,\"distance\":6.21},{\"splitCode\":\"7M\",\"splitName\":null,\"time\":\"0:54:53\",\"pace\":\"07:51\",\"speed\":7.7,\"distance\":7.0},{\"splitCode\":\"8M\",\"splitName\":null,\"time\":\"1:02:51\",\"pace\":\"07:52\",\"speed\":7.6,\"distance\":8.0},{\"splitCode\":\"9M\",\"splitName\":null,\"time\":\"1:10:54\",\"pace\":\"07:53\",\"speed\":7.6,\"distance\":9.0},{\"splitCode\":\"15K\",\"splitName\":null,\"time\":\"1:13:28\",\"pace\":\"07:53\",\"speed\":7.6,\"distance\":9.32},{\"splitCode\":\"10M\",\"splitName\":null,\"time\":\"1:18:47\",\"pace\":\"07:53\",\"speed\":7.6,\"distance\":10.0},{\"splitCode\":\"11M\",\"splitName\":null,\"time\":\"1:26:47\",\"pace\":\"07:54\",\"speed\":7.6,\"distance\":11.0},{\"splitCode\":\"12M\",\"splitName\":null,\"time\":\"1:34:39\",\"pace\":\"07:54\",\"speed\":7.6,\"distance\":12.0},{\"splitCode\":\"20K\",\"splitName\":null,\"time\":\"1:38:03\",\"pace\":\"07:54\",\"speed\":7.6,\"distance\":12.43},{\"splitCode\":\"13M\",\"splitName\":null,\"time\":\"1:42:38\",\"pace\":\"07:54\",\"speed\":7.6,\"distance\":null},{\"splitCode\":\"HALF\",\"splitName\":null,\"time\":\"1:43:34\",\"pace\":\"07:54\",\"speed\":7.6,\"distance\":13.1},{\"splitCode\":\"14M\",\"splitName\":null,\"time\":\"1:50:26\",\"pace\":\"07:54\",\"speed\":7.6,\"distance\":14.0},{\"splitCode\":\"15M\",\"splitName\":null,\"time\":\"1:58:36\",\"pace\":\"07:55\",\"speed\":7.6,\"distance\":15.0},{\"splitCode\":\"25K\",\"splitName\":null,\"time\":\"2:02:58\",\"pace\":\"07:55\",\"speed\":7.6,\"distance\":15.53},{\"splitCode\":\"16M\",\"splitName\":null,\"time\":\"2:06:34\",\"pace\":\"07:55\",\"speed\":7.6,\"distance\":16.0},{\"splitCode\":\"17M\",\"splitName\":null,\"time\":\"2:14:33\",\"pace\":\"07:55\",\"speed\":7.6,\"distance\":17.0},{\"splitCode\":\"18M\",\"splitName\":null,\"time\":\"2:22:37\",\"pace\":\"07:56\",\"speed\":7.6,\"distance\":18.0},{\"splitCode\":\"30K\",\"splitName\":null,\"time\":\"2:27:51\",\"pace\":\"07:56\",\"speed\":7.6,\"distance\":18.64},{\"splitCode\":\"19M\",\"splitName\":null,\"time\":\"2:30:46\",\"pace\":\"07:57\",\"speed\":7.6,\"distance\":19.0},{\"splitCode\":\"20M\",\"splitName\":null,\"time\":\"2:39:17\",\"pace\":\"07:58\",\"speed\":7.5,\"distance\":20.0},{\"splitCode\":\"21M\",\"splitName\":null,\"time\":\"2:47:54\",\"pace\":\"08:00\",\"speed\":7.5,\"distance\":21.0},{\"splitCode\":\"35K\",\"splitName\":null,\"time\":\"2:54:58\",\"pace\":\"08:03\",\"speed\":7.5,\"distance\":21.75},{\"splitCode\":\"22M\",\"splitName\":null,\"time\":\"2:57:16\",\"pace\":\"08:04\",\"speed\":7.4,\"distance\":22.0},{\"splitCode\":\"23M\",\"splitName\":null,\"time\":\"3:07:03\",\"pace\":\"08:08\",\"speed\":7.4,\"distance\":23.0},{\"splitCode\":\"24M\",\"splitName\":null,\"time\":\"3:17:50\",\"pace\":\"08:15\",\"speed\":7.3,\"distance\":24.0},{\"splitCode\":\"40K\",\"splitName\":null,\"time\":\"3:27:04\",\"pace\":\"08:20\",\"speed\":7.2,\"distance\":24.85},{\"splitCode\":\"25M\",\"splitName\":null,\"time\":\"3:28:43\",\"pace\":\"08:21\",\"speed\":7.2,\"distance\":25.0},{\"splitCode\":\"26M\",\"splitName\":null,\"time\":\"3:40:18\",\"pace\":\"08:29\",\"speed\":7.1,\"distance\":26.0},{\"splitCode\":\"MAR\",\"splitName\":null,\"time\":\"3:42:52\",\"pace\":\"08:31\",\"speed\":7.1,\"distance\":26.22}],\"overallTotalPlaces\":53520,\"genderTotalPlaces\":30801,\"ageGroupTotalPlaces\":4858,\"ageGradedTotalPlaces\":30801,\"countryTotalPlaces\":22}}\n"
     ]
    }
   ],
   "source": [
    "import requests\n",
    "\n",
    "url = \"https://results.nyrr.org/api/runners/resultDetails\"\n",
    "\n",
    "payload=\"{\\\"runnerId\\\":26819621}\"\n",
    "headers = {\n",
    "  'authority': 'results.nyrr.org',\n",
    "  'sec-ch-ua': '\"Chromium\";v=\"88\", \"Google Chrome\";v=\"88\", \";Not A Brand\";v=\"99\"',\n",
    "  'accept': 'application/json, text/plain, */*',\n",
    "  'sec-ch-ua-mobile': '?0',\n",
    "  'user-agent': 'Mozilla/5.0 (Windows NT 10.0; Win64; x64) AppleWebKit/537.36 (KHTML, like Gecko) Chrome/88.0.4324.150 Safari/537.36',\n",
    "  'token': '6122c32703f442f0',\n",
    "  'content-type': 'application/json;charset=UTF-8',\n",
    "  'origin': 'https://results.nyrr.org',\n",
    "  'sec-fetch-site': 'same-origin',\n",
    "  'sec-fetch-mode': 'cors',\n",
    "  'sec-fetch-dest': 'empty',\n",
    "  'referer': 'https://results.nyrr.org/event/M2019/result/15017',\n",
    "  'accept-language': 'en-US,en;q=0.9',\n",
    "}\n",
    "\n",
    "response = requests.request(\"POST\", url, headers=headers, data=payload)\n",
    "\n",
    "print(response.text)\n"
   ]
  },
  {
   "cell_type": "code",
   "execution_count": 8,
   "metadata": {},
   "outputs": [
    {
     "data": {
      "text/plain": [
       "<Response [405]>"
      ]
     },
     "execution_count": 8,
     "metadata": {},
     "output_type": "execute_result"
    }
   ],
   "source": [
    "response"
   ]
  }
 ],
 "metadata": {
  "kernelspec": {
   "display_name": "Python 3",
   "language": "python",
   "name": "python3"
  },
  "language_info": {
   "codemirror_mode": {
    "name": "ipython",
    "version": 3
   },
   "file_extension": ".py",
   "mimetype": "text/x-python",
   "name": "python",
   "nbconvert_exporter": "python",
   "pygments_lexer": "ipython3",
   "version": "3.7.7"
  }
 },
 "nbformat": 4,
 "nbformat_minor": 4
}
