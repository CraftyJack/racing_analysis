{
 "cells": [
  {
   "cell_type": "markdown",
   "metadata": {},
   "source": [
    "# Setup"
   ]
  },
  {
   "cell_type": "markdown",
   "metadata": {},
   "source": [
    "## Import Libraries"
   ]
  },
  {
   "cell_type": "code",
   "execution_count": 4,
   "metadata": {},
   "outputs": [],
   "source": [
    "from splinter import Browser\n",
    "from bs4 import BeautifulSoup as bs\n",
    "import requests\n",
    "import time\n",
    "import pandas as pd"
   ]
  },
  {
   "cell_type": "markdown",
   "metadata": {},
   "source": [
    "## Open browser for scraping"
   ]
  },
  {
   "cell_type": "code",
   "execution_count": 5,
   "metadata": {},
   "outputs": [],
   "source": [
    "# Set path for chromedriver\n",
    "executable_path = {'chromedriver.exe'}\n",
    "# Open browser\n",
    "browser = Browser('chrome', headless=False)"
   ]
  },
  {
   "cell_type": "code",
   "execution_count": 6,
   "metadata": {},
   "outputs": [],
   "source": [
    "# Go to the marathon results page\n",
    "url = 'https://results.nyrr.org/event/M2019/finishers'\n",
    "browser.visit(url)\n",
    "time.sleep(1)\n",
    "\n",
    "# Scrape page into Soup\n",
    "html = browser.html\n",
    "soup = bs(html, \"html.parser\")"
   ]
  },
  {
   "cell_type": "markdown",
   "metadata": {},
   "source": [
    "## Identify Data"
   ]
  },
  {
   "cell_type": "markdown",
   "metadata": {},
   "source": [
    "One small issue we have is that not all runners have all data fields. Depending on where they come from, they may not have a city or state. Only runners from the USA have the city and state. It would be really nice to have the city and state for mapping runners' origin points within the US."
   ]
  },
  {
   "cell_type": "code",
   "execution_count": 13,
   "metadata": {},
   "outputs": [],
   "source": [
    "finisher_records = soup.find_all('div', {'ng-repeat': 'eventFinisher in eventFinishers'})"
   ]
  },
  {
   "cell_type": "code",
   "execution_count": 14,
   "metadata": {},
   "outputs": [
    {
     "data": {
      "text/plain": [
       "<div class=\"cmd-finisher ng-scope\" ng-repeat=\"eventFinisher in eventFinishers\">\n",
       "<div class=\"container-fluid b-runners_detailes-list\">\n",
       "<div class=\"row rms-grid-item\" ng-class=\"{ 'narrow' : layoutScope.isGridRowNarrow &amp;&amp; layoutScope.isDesktopView }\" ng-click=\"openRunnerResults(eventCode, eventFinisher.bib)\">\n",
       "<div class=\"col-xs-4 col-sm-4 col-md-6 h-100\" style=\"padding-right: 0;\">\n",
       "<div class=\"name rms-grid-line ng-binding\">\n",
       "                                Geoffrey Kamworor\n",
       "                            </div>\n",
       "<div class=\"details rms-grid-line\">\n",
       "<!-- ngIf: eventFinisher.gender || eventFinisher.age --><span class=\"ng-binding ng-scope\" ng-if=\"eventFinisher.gender || eventFinisher.age\">M26</span><!-- end ngIf: eventFinisher.gender || eventFinisher.age -->\n",
       "<!-- ngIf: eventFinisher.city && eventFinisher.showUsa -->\n",
       "<!-- ngIf: eventFinisher.stateProvince && eventFinisher.showUsa -->\n",
       "<!-- ngIf: eventFinisher.countryCode && !eventFinisher.iaaf -->\n",
       "<!-- ngIf: eventFinisher.iaaf --><span class=\"ng-binding ng-scope\" ng-if=\"eventFinisher.iaaf\">KEN</span><!-- end ngIf: eventFinisher.iaaf -->\n",
       "<!-- ngIf: eventFinisher.bib --><span class=\"left-bordered ng-scope\" ng-if=\"eventFinisher.bib\">Bib <span class=\"num ng-binding\">3</span></span><!-- end ngIf: eventFinisher.bib -->\n",
       "</div>\n",
       "</div>\n",
       "<div class=\"col-xs-8 col-sm-8 col-md-6\">\n",
       "<span class=\"result right-floated-item info-link\"><a href=\"#\">Info</a></span>\n",
       "<span class=\"result right-floated-item long-text\">Time<span class=\"num ng-binding\">2:08:13</span></span>\n",
       "<span class=\"result right-floated-item short-text\">Pace<span class=\"num ng-binding\">04:54</span></span>\n",
       "<span class=\"result right-floated-item mid-text\">Place<span class=\"num ng-binding\">1</span></span>\n",
       "</div>\n",
       "</div>\n",
       "</div>\n",
       "<div class=\"grid-rmsad ng-hide\" ng-show=\"eventFinisher.ad &amp;&amp; eventFinisher.ad != null\">\n",
       "<!-- ngIf: eventFinisher.ad && eventFinisher.ad != null -->\n",
       "</div>\n",
       "</div>"
      ]
     },
     "execution_count": 14,
     "metadata": {},
     "output_type": "execute_result"
    }
   ],
   "source": [
    "finisher_records[0]"
   ]
  },
  {
   "cell_type": "code",
   "execution_count": 82,
   "metadata": {},
   "outputs": [],
   "source": [
    "finisher_record = finisher_records[5]"
   ]
  },
  {
   "cell_type": "markdown",
   "metadata": {},
   "source": [
    "### Finisher Name"
   ]
  },
  {
   "cell_type": "code",
   "execution_count": 24,
   "metadata": {},
   "outputs": [],
   "source": [
    "# This finds the first finisher name on the page.\n",
    "finisher_name_first_method = soup.find_all(class_='name rms-grid-line ng-binding')[0].text"
   ]
  },
  {
   "cell_type": "code",
   "execution_count": 26,
   "metadata": {},
   "outputs": [
    {
     "name": "stdout",
     "output_type": "stream",
     "text": [
      "\n",
      "                                Geoffrey Kamworor\n",
      "                            \n"
     ]
    }
   ],
   "source": [
    "print(finisher_name_first_method)"
   ]
  },
  {
   "cell_type": "code",
   "execution_count": 83,
   "metadata": {},
   "outputs": [],
   "source": [
    "# This finds the finisher name in the selected finisher record. Slightly different approach, but important for making sure\n",
    "# that we don't trip over missing data.\n",
    "finisher_name = finisher_record.find(class_='name rms-grid-line ng-binding').text"
   ]
  },
  {
   "cell_type": "code",
   "execution_count": 84,
   "metadata": {},
   "outputs": [
    {
     "name": "stdout",
     "output_type": "stream",
     "text": [
      "\n",
      "                                Jared Ward\n",
      "                            \n"
     ]
    }
   ],
   "source": [
    "print(finisher_name)"
   ]
  },
  {
   "cell_type": "markdown",
   "metadata": {},
   "source": [
    "### Time"
   ]
  },
  {
   "cell_type": "code",
   "execution_count": 85,
   "metadata": {},
   "outputs": [
    {
     "name": "stdout",
     "output_type": "stream",
     "text": [
      "2:10:45\n"
     ]
    }
   ],
   "source": [
    "finisher_time = finisher_record.find_all(class_='result')[1].text[4:]\n",
    "print(finisher_time)"
   ]
  },
  {
   "cell_type": "markdown",
   "metadata": {},
   "source": [
    "### Pace"
   ]
  },
  {
   "cell_type": "code",
   "execution_count": 86,
   "metadata": {},
   "outputs": [
    {
     "name": "stdout",
     "output_type": "stream",
     "text": [
      "05:00\n"
     ]
    }
   ],
   "source": [
    "finisher_pace = finisher_record.find_all(class_='result')[2].text[4:]\n",
    "print(finisher_pace)"
   ]
  },
  {
   "cell_type": "markdown",
   "metadata": {},
   "source": [
    "### Place"
   ]
  },
  {
   "cell_type": "code",
   "execution_count": 87,
   "metadata": {},
   "outputs": [
    {
     "name": "stdout",
     "output_type": "stream",
     "text": [
      "6\n"
     ]
    }
   ],
   "source": [
    "finisher_place = finisher_record.find_all(class_='result')[3].text[5:]\n",
    "print(finisher_place)"
   ]
  },
  {
   "cell_type": "markdown",
   "metadata": {},
   "source": [
    "### Gender/Age"
   ]
  },
  {
   "cell_type": "code",
   "execution_count": 88,
   "metadata": {},
   "outputs": [],
   "source": [
    "#finisher_gender_age = soup.find_all('span',{'ng-if':\"eventFinisher.gender || eventFinisher.age\"})\n",
    "finisher_gender_age = finisher_record.find('span',{'ng-if':\"eventFinisher.gender || eventFinisher.age\"}).text"
   ]
  },
  {
   "cell_type": "code",
   "execution_count": 89,
   "metadata": {},
   "outputs": [
    {
     "name": "stdout",
     "output_type": "stream",
     "text": [
      "M31\n"
     ]
    }
   ],
   "source": [
    "print(finisher_gender_age)"
   ]
  },
  {
   "cell_type": "markdown",
   "metadata": {},
   "source": [
    "### Bib"
   ]
  },
  {
   "cell_type": "code",
   "execution_count": 90,
   "metadata": {},
   "outputs": [],
   "source": [
    "finisher_bib = finisher_record.find('span',{'ng-if':\"eventFinisher.bib\"}).text[4:]"
   ]
  },
  {
   "cell_type": "code",
   "execution_count": 91,
   "metadata": {},
   "outputs": [
    {
     "name": "stdout",
     "output_type": "stream",
     "text": [
      "6\n"
     ]
    }
   ],
   "source": [
    "print(finisher_bib)"
   ]
  },
  {
   "cell_type": "markdown",
   "metadata": {},
   "source": [
    "### Country"
   ]
  },
  {
   "cell_type": "code",
   "execution_count": 92,
   "metadata": {},
   "outputs": [],
   "source": [
    "finisher_country = finisher_record.find('span',{'ng-if':\"eventFinisher.iaaf\"}).text"
   ]
  },
  {
   "cell_type": "code",
   "execution_count": 93,
   "metadata": {},
   "outputs": [
    {
     "name": "stdout",
     "output_type": "stream",
     "text": [
      "USA\n"
     ]
    }
   ],
   "source": [
    "print(finisher_country)"
   ]
  },
  {
   "cell_type": "markdown",
   "metadata": {},
   "source": [
    "### State/Province"
   ]
  },
  {
   "cell_type": "code",
   "execution_count": 102,
   "metadata": {},
   "outputs": [],
   "source": [
    "try:\n",
    "    finisher_state = finisher_record.find('span',{'ng-if':\"eventFinisher.stateProvince && eventFinisher.showUsa\"}).text\n",
    "except:\n",
    "    finisher_state = 0"
   ]
  },
  {
   "cell_type": "code",
   "execution_count": 103,
   "metadata": {},
   "outputs": [
    {
     "name": "stdout",
     "output_type": "stream",
     "text": [
      "UT\n"
     ]
    }
   ],
   "source": [
    "print(finisher_state)"
   ]
  },
  {
   "cell_type": "markdown",
   "metadata": {},
   "source": [
    "### City"
   ]
  },
  {
   "cell_type": "code",
   "execution_count": 98,
   "metadata": {},
   "outputs": [],
   "source": [
    "try:\n",
    "    finisher_city = finisher_record.find('span',{'ng-if':\"eventFinisher.city && eventFinisher.showUsa\"}).text\n",
    "except:\n",
    "    finisher_city = 0"
   ]
  },
  {
   "cell_type": "code",
   "execution_count": 99,
   "metadata": {},
   "outputs": [
    {
     "data": {
      "text/plain": [
       "'Mapleton'"
      ]
     },
     "execution_count": 99,
     "metadata": {},
     "output_type": "execute_result"
    }
   ],
   "source": [
    "finisher_city"
   ]
  },
  {
   "cell_type": "markdown",
   "metadata": {},
   "source": [
    "## Loop Construction"
   ]
  },
  {
   "cell_type": "code",
   "execution_count": 107,
   "metadata": {},
   "outputs": [
    {
     "name": "stdout",
     "output_type": "stream",
     "text": [
      "---------------------\n",
      "\n",
      "                                Geoffrey Kamworor\n",
      "                            \n",
      "1\n",
      "2:08:13\n",
      "04:54\n",
      "M26\n",
      "3\n",
      "KEN\n",
      "0\n",
      "0\n",
      "---------------------\n",
      "\n",
      "                                Albert Korir\n",
      "                            \n",
      "2\n",
      "2:08:36\n",
      "04:55\n",
      "M25\n",
      "5\n",
      "KEN\n",
      "0\n",
      "0\n",
      "---------------------\n",
      "\n",
      "                                Girma Bekele Gebre\n",
      "                            \n",
      "3\n",
      "2:08:38\n",
      "04:55\n",
      "M26\n",
      "443\n",
      "ETH\n",
      "0\n",
      "0\n",
      "---------------------\n",
      "\n",
      "                                Tamirat Tola\n",
      "                            \n",
      "4\n",
      "2:09:20\n",
      "04:56\n",
      "M28\n",
      "4\n",
      "ETH\n",
      "0\n",
      "0\n",
      "---------------------\n",
      "\n",
      "                                Shura Kitata\n",
      "                            \n",
      "5\n",
      "2:10:39\n",
      "04:59\n",
      "M23\n",
      "2\n",
      "ETH\n",
      "0\n",
      "0\n",
      "---------------------\n",
      "\n",
      "                                Jared Ward\n",
      "                            \n",
      "6\n",
      "2:10:45\n",
      "05:00\n",
      "M31\n",
      "6\n",
      "USA\n",
      "UT\n",
      "Mapleton\n",
      "---------------------\n",
      "\n",
      "                                Stephen Sambu\n",
      "                            \n",
      "7\n",
      "2:11:11\n",
      "05:01\n",
      "M31\n",
      "10\n",
      "KEN\n",
      "0\n",
      "0\n",
      "---------------------\n",
      "\n",
      "                                Yoshiki Takenouchi\n",
      "                            \n",
      "8\n",
      "2:11:18\n",
      "05:01\n",
      "M27\n",
      "11\n",
      "JPN\n",
      "0\n",
      "0\n",
      "---------------------\n",
      "\n",
      "                                Abdi Abdirahman\n",
      "                            \n",
      "9\n",
      "2:11:34\n",
      "05:02\n",
      "M42\n",
      "14\n",
      "USA\n",
      "AZ\n",
      "Tucson\n",
      "---------------------\n",
      "\n",
      "                                Connor McMillan\n",
      "                            \n",
      "10\n",
      "2:12:07\n",
      "05:03\n",
      "M23\n",
      "28\n",
      "USA\n",
      "UT\n",
      "Provo\n",
      "---------------------\n",
      "\n",
      "                                Arne Gabius\n",
      "                            \n",
      "11\n",
      "2:12:57\n",
      "05:05\n",
      "M38\n",
      "12\n",
      "GER\n",
      "0\n",
      "0\n",
      "---------------------\n",
      "\n",
      "                                Daniel Mesfun\n",
      "                            \n",
      "12\n",
      "2:13:09\n",
      "05:05\n",
      "M31\n",
      "15\n",
      "ERI\n",
      "0\n",
      "0\n",
      "---------------------\n",
      "\n",
      "                                Birhanu Dare Kemal\n",
      "                            \n",
      "13\n",
      "2:13:35\n",
      "05:06\n",
      "M33\n",
      "26\n",
      "ETH\n",
      "0\n",
      "0\n",
      "---------------------\n",
      "\n",
      "                                Tyler Pennel\n",
      "                            \n",
      "14\n",
      "2:14:10\n",
      "05:08\n",
      "M31\n",
      "18\n",
      "USA\n",
      "NC\n",
      "Blowing Rock\n",
      "---------------------\n",
      "\n",
      "                                John Raneri\n",
      "                            \n",
      "15\n",
      "2:14:13\n",
      "05:08\n",
      "M28\n",
      "27\n",
      "USA\n",
      "CT\n",
      "New Fairfield\n",
      "---------------------\n",
      "\n",
      "                                Patricio Castillo\n",
      "                            \n",
      "16\n",
      "2:14:16\n",
      "05:08\n",
      "M27\n",
      "445\n",
      "MEX\n",
      "0\n",
      "0\n",
      "---------------------\n",
      "\n",
      "                                Tadesse Yae Dabi\n",
      "                            \n",
      "17\n",
      "2:14:24\n",
      "05:08\n",
      "M30\n",
      "25\n",
      "ETH\n",
      "0\n",
      "0\n",
      "---------------------\n",
      "\n",
      "                                Tyler Jermann\n",
      "                            \n",
      "18\n",
      "2:15:38\n",
      "05:11\n",
      "M27\n",
      "19\n",
      "USA\n",
      "MN\n",
      "Burnsville\n",
      "---------------------\n",
      "\n",
      "                                Joe Whelan\n",
      "                            \n",
      "19\n",
      "2:16:10\n",
      "05:12\n",
      "M28\n",
      "23\n",
      "USA\n",
      "TX\n",
      "Spring Branch\n",
      "---------------------\n",
      "\n",
      "                                Louis Serafini\n",
      "                            \n",
      "20\n",
      "2:16:34\n",
      "05:13\n",
      "M28\n",
      "30\n",
      "USA\n",
      "MA\n",
      "Somerville\n",
      "---------------------\n",
      "\n",
      "                                Diriba Degefa Yigezu\n",
      "                            \n",
      "21\n",
      "2:16:38\n",
      "05:13\n",
      "M31\n",
      "448\n",
      "ETH\n",
      "0\n",
      "0\n",
      "---------------------\n",
      "\n",
      "                                Jack Rayner\n",
      "                            \n",
      "22\n",
      "2:16:58\n",
      "05:14\n",
      "M23\n",
      "9\n",
      "AUS\n",
      "0\n",
      "0\n",
      "---------------------\n",
      "\n",
      "                                Brett Robinson\n",
      "                            \n",
      "23\n",
      "2:17:50\n",
      "05:16\n",
      "M28\n",
      "8\n",
      "AUS\n",
      "0\n",
      "0\n",
      "---------------------\n",
      "\n",
      "                                Craig Leon\n",
      "                            \n",
      "24\n",
      "2:18:20\n",
      "05:17\n",
      "M34\n",
      "20\n",
      "USA\n",
      "OR\n",
      "Eugene\n",
      "---------------------\n",
      "\n",
      "                                Mustafa Mohamed\n",
      "                            \n",
      "25\n",
      "2:19:41\n",
      "05:20\n",
      "M40\n",
      "36\n",
      "SWE\n",
      "0\n",
      "0\n",
      "---------------------\n",
      "\n",
      "                                Brendan Martin\n",
      "                            \n",
      "26\n",
      "2:19:52\n",
      "05:21\n",
      "M30\n",
      "29\n",
      "USA\n",
      "NY\n",
      "Smithtown\n",
      "---------------------\n",
      "\n",
      "                                Harbert Okuti\n",
      "                            \n",
      "27\n",
      "2:21:06\n",
      "05:23\n",
      "M34\n",
      "24\n",
      "UGA\n",
      "0\n",
      "0\n",
      "---------------------\n",
      "\n",
      "                                Fredison Costa\n",
      "                            \n",
      "28\n",
      "2:21:29\n",
      "05:24\n",
      "M42\n",
      "447\n",
      "BRA\n",
      "0\n",
      "0\n",
      "---------------------\n",
      "\n",
      "                                Tyler McCandless\n",
      "                            \n",
      "29\n",
      "2:21:55\n",
      "05:25\n",
      "M33\n",
      "16\n",
      "USA\n",
      "CO\n",
      "Boulder\n",
      "---------------------\n",
      "\n",
      "                                Gregory Billington\n",
      "                            \n",
      "30\n",
      "2:22:27\n",
      "05:26\n",
      "M30\n",
      "444\n",
      "USA\n",
      "CA\n",
      "San Francisco\n",
      "---------------------\n",
      "\n",
      "                                Joyciline Jepkosgei\n",
      "                            \n",
      "31\n",
      "2:22:38\n",
      "05:27\n",
      "F25\n",
      "106\n",
      "KEN\n",
      "0\n",
      "0\n",
      "---------------------\n",
      "\n",
      "                                Temesgen Habtemariam Bekele\n",
      "                            \n",
      "32\n",
      "2:23:04\n",
      "05:28\n",
      "M29\n",
      "458\n",
      "ETH\n",
      "0\n",
      "0\n",
      "---------------------\n",
      "\n",
      "                                Jaime Julia\n",
      "                            \n",
      "33\n",
      "2:23:04\n",
      "05:28\n",
      "M35\n",
      "34\n",
      "PUR\n",
      "0\n",
      "0\n",
      "---------------------\n",
      "\n",
      "                                Mary Keitany\n",
      "                            \n",
      "34\n",
      "2:23:32\n",
      "05:29\n",
      "F37\n",
      "101\n",
      "KEN\n",
      "0\n",
      "0\n",
      "---------------------\n",
      "\n",
      "                                Abu Kebede Diriba\n",
      "                            \n",
      "35\n",
      "2:23:55\n",
      "05:30\n",
      "M32\n",
      "460\n",
      "ETH\n",
      "0\n",
      "0\n",
      "---------------------\n",
      "\n",
      "                                Seth DeMoor\n",
      "                            \n",
      "36\n",
      "2:24:01\n",
      "05:30\n",
      "M34\n",
      "1008\n",
      "USA\n",
      "CO\n",
      "Englewood\n",
      "---------------------\n",
      "\n",
      "                                Michel Butter\n",
      "                            \n",
      "37\n",
      "2:25:06\n",
      "05:33\n",
      "M33\n",
      "7\n",
      "NED\n",
      "0\n",
      "0\n",
      "---------------------\n",
      "\n",
      "                                Matthew Kruger\n",
      "                            \n",
      "38\n",
      "2:25:37\n",
      "05:34\n",
      "M31\n",
      "465\n",
      "USA\n",
      "MO\n",
      "Saint Louis\n",
      "---------------------\n",
      "\n",
      "                                Ruti Aga\n",
      "                            \n",
      "39\n",
      "2:25:51\n",
      "05:34\n",
      "F25\n",
      "103\n",
      "ETH\n",
      "0\n",
      "0\n",
      "---------------------\n",
      "\n",
      "                                Vladimir Shatrov\n",
      "                            \n",
      "40\n",
      "2:26:17\n",
      "05:35\n",
      "M41\n",
      "1010\n",
      "AUS\n",
      "0\n",
      "0\n",
      "---------------------\n",
      "\n",
      "                                Tim Niklas Schwippel\n",
      "                            \n",
      "41\n",
      "2:26:19\n",
      "05:35\n",
      "M24\n",
      "1027\n",
      "GER\n",
      "0\n",
      "0\n",
      "---------------------\n",
      "\n",
      "                                Nancy Kiprop\n",
      "                            \n",
      "42\n",
      "2:26:21\n",
      "05:35\n",
      "F40\n",
      "104\n",
      "KEN\n",
      "0\n",
      "0\n",
      "---------------------\n",
      "\n",
      "                                Sinead Diver\n",
      "                            \n",
      "43\n",
      "2:26:23\n",
      "05:35\n",
      "F42\n",
      "107\n",
      "AUS\n",
      "0\n",
      "0\n",
      "---------------------\n",
      "\n",
      "                                Jordan Daniel\n",
      "                            \n",
      "44\n",
      "2:26:27\n",
      "05:36\n",
      "M24\n",
      "1009\n",
      "USA\n",
      "NY\n",
      "Westhampton\n",
      "---------------------\n",
      "\n",
      "                                Guillaume Adam\n",
      "                            \n",
      "45\n",
      "2:26:36\n",
      "05:36\n",
      "M29\n",
      "1052\n",
      "FRA\n",
      "0\n",
      "0\n",
      "---------------------\n",
      "\n",
      "                                Thierry Guibault\n",
      "                            \n",
      "46\n",
      "2:26:46\n",
      "05:36\n",
      "M45\n",
      "1048\n",
      "FRA\n",
      "0\n",
      "0\n",
      "---------------------\n",
      "\n",
      "                                Desiree Linden\n",
      "                            \n",
      "47\n",
      "2:26:46\n",
      "05:36\n",
      "F36\n",
      "105\n",
      "USA\n",
      "MI\n",
      "Charlevoix\n",
      "---------------------\n",
      "\n",
      "                                Kellyn Taylor\n",
      "                            \n",
      "48\n",
      "2:26:52\n",
      "05:37\n",
      "F33\n",
      "108\n",
      "USA\n",
      "AZ\n",
      "Flagstaff\n",
      "---------------------\n",
      "\n",
      "                                Rune Baekgaard\n",
      "                            \n",
      "49\n",
      "2:26:53\n",
      "05:37\n",
      "M31\n",
      "441\n",
      "DEN\n",
      "0\n",
      "0\n",
      "---------------------\n",
      "\n",
      "                                Ellie Pashley\n",
      "                            \n",
      "50\n",
      "2:27:07\n",
      "05:37\n",
      "F30\n",
      "112\n",
      "AUS\n",
      "0\n",
      "0\n",
      "---------------------\n",
      "\n",
      "                                Miguel Ferrer\n",
      "                            \n",
      "51\n",
      "2:27:15\n",
      "05:37\n",
      "M41\n",
      "454\n",
      "ESP\n",
      "0\n",
      "0\n"
     ]
    }
   ],
   "source": [
    "for record in finisher_records:\n",
    "    finisher_name = record.find(class_='name rms-grid-line ng-binding').text\n",
    "    finisher_time = record.find_all(class_='result')[1].text[4:]\n",
    "    finisher_pace = record.find_all(class_='result')[2].text[4:]\n",
    "    finisher_place = record.find_all(class_='result')[3].text[5:]\n",
    "    finisher_gender_age = record.find('span',{'ng-if':\"eventFinisher.gender || eventFinisher.age\"}).text\n",
    "    finisher_bib = record.find('span',{'ng-if':\"eventFinisher.bib\"}).text[4:]\n",
    "    finisher_country = record.find('span',{'ng-if':\"eventFinisher.iaaf\"}).text\n",
    "    try:\n",
    "        finisher_state = record.find('span',{'ng-if':\"eventFinisher.stateProvince && eventFinisher.showUsa\"}).text\n",
    "    except:\n",
    "        finisher_state = 0\n",
    "    try:\n",
    "        finisher_city = record.find('span',{'ng-if':\"eventFinisher.city && eventFinisher.showUsa\"}).text\n",
    "    except:\n",
    "        finisher_city = 0\n",
    "    print(\"---------------------\")\n",
    "    print(finisher_name)\n",
    "    print(finisher_place)\n",
    "    print(finisher_time)\n",
    "    print(finisher_pace)\n",
    "    print(finisher_gender_age)\n",
    "    print(finisher_bib)\n",
    "    print(finisher_country)\n",
    "    print(finisher_state)\n",
    "    print(finisher_city)"
   ]
  },
  {
   "cell_type": "code",
   "execution_count": null,
   "metadata": {},
   "outputs": [],
   "source": []
  }
 ],
 "metadata": {
  "kernelspec": {
   "display_name": "Python 3",
   "language": "python",
   "name": "python3"
  },
  "language_info": {
   "codemirror_mode": {
    "name": "ipython",
    "version": 3
   },
   "file_extension": ".py",
   "mimetype": "text/x-python",
   "name": "python",
   "nbconvert_exporter": "python",
   "pygments_lexer": "ipython3",
   "version": "3.7.7"
  }
 },
 "nbformat": 4,
 "nbformat_minor": 4
}
